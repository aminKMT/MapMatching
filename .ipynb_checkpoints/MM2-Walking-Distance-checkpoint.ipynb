{
 "cells": [
  {
   "cell_type": "markdown",
   "id": "d21390a5",
   "metadata": {},
   "source": [
    "# Matching Bike GPS Points Utilizing the Walking Distance Travel Mode in ArcGIS Online Street Network"
   ]
  },
  {
   "cell_type": "markdown",
   "id": "9487f139",
   "metadata": {},
   "source": [
    "Data Dictionary: Bike_GP_Point: This feature class layer includes all Bike GPS points.\n",
    "\n",
    "Trip_ID: A unique identifier for each set of GPS points that represent individual bike tracks. This field is found in the Bike_GP_Point attribute table.\n",
    "\n",
    "START_AT: A field within the Bike_GP_Point feature class, this represents the timestamp when each GPS point was recorded. By arranging the GPS points in ascending order according to START_AT, we can determine the direction of each bike trip."
   ]
  },
  {
   "cell_type": "markdown",
   "id": "b8bf342b",
   "metadata": {},
   "source": [
    "Part 1: Connecting Jupyter Notebook to Your Personal ArcGIS Account and Creating a Function to Retrieve a List of All Bike Trip IDs."
   ]
  },
  {
   "cell_type": "code",
   "execution_count": null,
   "id": "ecea25a5",
   "metadata": {},
   "outputs": [],
   "source": [
    "#part 1:\n",
    "import arcgis\n",
    "from arcgis.gis import GIS\n",
    "\n",
    "# Connect to your ArcGIS Online or Portal for ArcGIS account\n",
    "gis = GIS(\"https://www.arcgis.com\", \"User Name\", \"Password\") # Replace with your arcgis user name and password \n",
    "\n",
    "# Check out the Network Analyst extension\n",
    "arcgis.env.active_gis = gis\n",
    "arcgis.env.process_spatial_analyst_extension = True\n",
    "arcgis.env.process_network_analysis_extension = True\n",
    "\n",
    "import arcpy\n",
    "\n",
    "# Set up the environment\n",
    "arcpy.env.workspace = r\"C:\\Users\\YourName\\MapMatching_Pionts.gdb\"  # Replace with your workspace path\n",
    "\n",
    "####Making a function to create a list of trip_Ids:\n",
    "def get_unique_values(fc, field):\n",
    "    # Use a set because it automatically handles duplicate values\n",
    "    unique_values = set()\n",
    "    # Use a SearchCursor to iterate through the rows in the feature class\n",
    "    with arcpy.da.SearchCursor(fc, [field]) as cursor:\n",
    "        for row in cursor:\n",
    "            unique_values.add(row[0])\n",
    "\n",
    "    return unique_values\n",
    "####end of function\n",
    "\n",
    "trip_ids = get_unique_values(\"Bike_GP_Point\", \"TRIP_ID\")\n",
    "trip_ids\n"
   ]
  },
  {
   "cell_type": "markdown",
   "id": "5c4cd58e",
   "metadata": {},
   "source": [
    "Part 2: This section involves defining the street network, walking distance travel mode, and identifying the corresponding track for each unique trip id set of points. In the final polyline attribute table, you will be able to determine the track length and walikng travel time for each cyclist, each one marked with a unique trip id. The script is useful for calculating the length of each track when travel time is not estimated based on the bike travel mode, as ArcGIS Server does not have the bike travel mode as a default option. However, the routing based on the walking distance travel mode is suitable for matching GPS points, as the routing algorithm takes into account uturn allowances and street/trail selection, which closely resembles the biking travel mode. To perform map matching based on the bike travel mode, you need to modify the walking travel mode or implement the new travel mode using the MM3-BikeMode scripts as a reference."
   ]
  },
  {
   "cell_type": "code",
   "execution_count": null,
   "id": "7c8bc98f",
   "metadata": {},
   "outputs": [],
   "source": [
    "# Part 2:\n",
    "# Set up the input parameters\n",
    "network_dataset = \"https://www.arcgis.com/\" # Note, Using ArcGIS Server consumes credits.\n",
    "Org_stops_layer = \"Bike_GP_Point\"\n",
    "travel_mode     = \"Walking Distance\" #this travel mode is the closest mode to Bike which is the default mode of arcGIS server support.\n",
    "\n",
    "\n",
    "for ids in trip_ids:\n",
    "\n",
    "    # Delete the \"stops_layer\" and \"NSStop_Layer\" if it exists\n",
    "    if arcpy.Exists(\"stops_layer\"):\n",
    "        arcpy.management.Delete(\"stops_layer\")\n",
    "    if arcpy.Exists(\"NSstops_layer\"):\n",
    "        arcpy.management.Delete(\"NSstops_layer\")\n",
    "\n",
    "    # Create a feature layer for the stops, filtered by the current trip id\n",
    "    where_clause = f\"TRIP_ID = {ids}\"\n",
    "    arcpy.management.MakeFeatureLayer(Org_stops_layer, \"NSstops_layer\", where_clause)\n",
    "    arcpy.management.Sort(\"NSstops_layer\", \"stops_layer\", [[\"START_AT\", \"ASCENDING\"]])\n",
    "\n",
    "    route_layer_name = f\"Route_{ids}\"\n",
    "\n",
    "    # Delete the layer if it exists\n",
    "    if arcpy.Exists(route_layer_name):\n",
    "        arcpy.management.Delete(route_layer_name)\n",
    "\n",
    "    # Create a Route layer\n",
    "    arcpy.na.MakeRouteAnalysisLayer(network_dataset, route_layer_name, travel_mode)\n",
    "\n",
    "    # Get the sublayers from the Route layer\n",
    "    sublayer_names = arcpy.na.GetNAClassNames(route_layer_name)\n",
    "\n",
    "    # Set up the sublayer names\n",
    "    stops_sublayer = sublayer_names[\"Stops\"]\n",
    "    routes_sublayer = sublayer_names[\"Routes\"]\n",
    "\n",
    "    # Load the stops into the Stops sublayer\n",
    "    arcpy.na.AddLocations(route_layer_name, \"Stops\", \"stops_layer\")\n",
    "\n",
    "    # Solve the route\n",
    "    arcpy.na.Solve(route_layer_name)\n",
    "\n",
    "    # Add a new field to the route sublayer\n",
    "    arcpy.AddField_management(\"Routes\", \"Trip_ID\", \"TEXT\")\n",
    "    arcpy.CalculateField_management(routes_sublayer, \"Trip_ID\", f\"'{ids}'\", \"PYTHON3\")\n",
    "\n",
    "    # Save the output route to a separated folder:\n",
    "    output_route_fc = rf\"C:\\Users\\YourName\\Matched_Tracks\\Route_{ids}\" # replace this address with a new folder path and then add Route_{id} to the end of path \n",
    "    arcpy.management.CopyFeatures(\"Routes\", output_route_fc)\n",
    "\n",
    "    print(\"Generated Route Name:\", output_route_fc)\n",
    "\n",
    "    # Delete stops_layer:\n",
    "    arcpy.management.Delete(\"stops_layer\")\n",
    "    arcpy.management.Delete(\"NSstops_layer\")\n",
    "\n",
    "    # Delete the feature data set:\n",
    "    route_dataset = arcpy.ListDatasets()[0]\n",
    "    arcpy.Delete_management(route_dataset)\n",
    "\n",
    "arcpy.env.workspace = r\"C:\\Users\\YourName\\Matched_Tracks\" # replace it with a new folder path you created above\n",
    "All_Routes = arcpy.ListFeatureClasses()\n",
    "arcpy.management.Merge(All_Routes, \"Merged_Routes\")\n"
   ]
  }
 ],
 "metadata": {
  "kernelspec": {
   "display_name": "Python 3 (ipykernel)",
   "language": "python",
   "name": "python3"
  },
  "language_info": {
   "codemirror_mode": {
    "name": "ipython",
    "version": 3
   },
   "file_extension": ".py",
   "mimetype": "text/x-python",
   "name": "python",
   "nbconvert_exporter": "python",
   "pygments_lexer": "ipython3",
   "version": "3.9.16"
  }
 },
 "nbformat": 4,
 "nbformat_minor": 5
}
